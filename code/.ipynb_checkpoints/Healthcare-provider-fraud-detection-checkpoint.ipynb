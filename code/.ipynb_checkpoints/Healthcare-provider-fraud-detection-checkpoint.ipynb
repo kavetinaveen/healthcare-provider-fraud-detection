{
 "cells": [
  {
   "cell_type": "code",
   "execution_count": 34,
   "metadata": {},
   "outputs": [],
   "source": [
    "import numpy as np\n",
    "import pandas as pd\n",
    "import yaml\n",
    "from optparse import OptionParser"
   ]
  },
  {
   "cell_type": "code",
   "execution_count": null,
   "metadata": {},
   "outputs": [],
   "source": [
    "class prepare_data(object):\n",
    "    def __init__(self, params):\n",
    "        self.params = params\n",
    "        self.train_benef = pd.read_csv(params['info']['base_dir']+'/data/Train_Beneficiarydata-1542865627584.csv')\n",
    "        self.train_inpatient = pd.read_csv(params['info']['base_dir']+'/data/Train_Inpatientdata-1542865627584.csv')\n",
    "        self.train_outpatient = pd.read_csv(params['info']['base_dir']+'/data/Train_Outpatientdata-1542865627584.csv')\n",
    "        self.train_label = pd.read_csv(params['info']['base_dir']+'/data/Train-1542865627584.csv')\n",
    "        \n",
    "    def join_table(self):\n",
    "        train_inpatient_df = pd.merge(self.train_inpatient, self.train_benef, on = 'BeneID', how = 'left')\n",
    "        train_inpatient_df = pd.merge(train_df, self.train_label, on = 'Provider', how = 'left')\n",
    "        \n",
    "        train_outpatient_df = pd.merge(self.train_outpatient, self.train_benef, on = 'BeneID', how = 'left')\n",
    "        train_outpatient_df = pd.merge(train_outpatient_df, self.train_label, on = 'Provider', how = 'left')\n",
    "        return train_inpatient_df, train_outpatient_df\n",
    "    \n",
    "    def run(self):\n",
    "        inpateint_df, outpatient_df = self.join_table()\n",
    "        inpateint_df.to_csv(params['info']['base_dir']+'/data/processed_inpatient_df.csv', index = False)\n",
    "        outpatient_df.to_csv(params['info']['base_dir']+'/data/processed_outpatient_df.csv', index = False)"
   ]
  },
  {
   "cell_type": "code",
   "execution_count": null,
   "metadata": {},
   "outputs": [],
   "source": [
    "if __name__ == '__main__':\n",
    "    parser = OptionParser(usage=\"usage: python get_processed_data.py  configFile\",\n",
    "                          version=\"0.1\")\n",
    "    opts,args = parser.parse_args()\n",
    "    if len(args) < 1:\n",
    "        print('Config and/or output file missing...')\n",
    "        exit(0)\n",
    "    params = yaml.load(open(args[0],'r'))\n",
    "    process_df = prepare_data(params)\n",
    "    process_df.run()"
   ]
  }
 ],
 "metadata": {
  "kernelspec": {
   "display_name": "Python 3",
   "language": "python",
   "name": "python3"
  },
  "language_info": {
   "codemirror_mode": {
    "name": "ipython",
    "version": 3
   },
   "file_extension": ".py",
   "mimetype": "text/x-python",
   "name": "python",
   "nbconvert_exporter": "python",
   "pygments_lexer": "ipython3",
   "version": "3.6.8"
  }
 },
 "nbformat": 4,
 "nbformat_minor": 2
}
